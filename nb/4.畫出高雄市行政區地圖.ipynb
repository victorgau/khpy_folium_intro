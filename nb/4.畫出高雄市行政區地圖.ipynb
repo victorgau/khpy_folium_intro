{
 "cells": [
  {
   "cell_type": "markdown",
   "metadata": {},
   "source": [
    "# 畫出高雄市的行政區邊界圖"
   ]
  },
  {
   "cell_type": "code",
   "execution_count": null,
   "metadata": {
    "colab": {
     "base_uri": "https://localhost:8080/"
    },
    "id": "V-iv7rcTU7Gh",
    "outputId": "8ac35a61-cc37-4493-c895-39709ec23b4c"
   },
   "outputs": [],
   "source": [
    "# 安裝GeoPandas\n",
    "!pip install --upgrade geopandas -q\n",
    "!pip install --upgrade pyshp -q\n",
    "!pip install --upgrade shapely -q\n",
    "!pip install --upgrade descartes -q"
   ]
  },
  {
   "cell_type": "code",
   "execution_count": null,
   "metadata": {
    "id": "P_KWAnkAU_fc"
   },
   "outputs": [],
   "source": [
    "import requests\n",
    "import zipfile"
   ]
  },
  {
   "cell_type": "code",
   "execution_count": null,
   "metadata": {
    "id": "gfprKd6eYO9D"
   },
   "outputs": [],
   "source": [
    "import geopandas as gpd\n",
    "import folium"
   ]
  },
  {
   "cell_type": "code",
   "execution_count": null,
   "metadata": {
    "id": "ZrmdNzroVrfZ"
   },
   "outputs": [],
   "source": [
    "url = \"https://data.moi.gov.tw/MoiOD/System/DownloadFile.aspx?DATA=CD02C824-45C5-48C8-B631-98B205A2E35A\""
   ]
  },
  {
   "cell_type": "code",
   "execution_count": null,
   "metadata": {
    "id": "PZ8o8Z9-Vs0k"
   },
   "outputs": [],
   "source": [
    "r = requests.get(url)"
   ]
  },
  {
   "cell_type": "code",
   "execution_count": null,
   "metadata": {
    "id": "RUWbeO5XVvu1"
   },
   "outputs": [],
   "source": [
    "with open(\"data.zip\",\"wb\") as f:\n",
    "  f.write(r.content)"
   ]
  },
  {
   "cell_type": "code",
   "execution_count": null,
   "metadata": {
    "id": "vxTf80g3WDFu"
   },
   "outputs": [],
   "source": [
    "with zipfile.ZipFile(\"data.zip\",\"r\") as zf:\n",
    "    zf.extractall()"
   ]
  },
  {
   "cell_type": "code",
   "execution_count": null,
   "metadata": {
    "id": "SBzPO7qHWVx6"
   },
   "outputs": [],
   "source": [
    "gdf = gpd.read_file(\"TOWN_MOI_1100415.shp\", encoding=\"utf-8\")"
   ]
  },
  {
   "cell_type": "code",
   "execution_count": null,
   "metadata": {
    "colab": {
     "base_uri": "https://localhost:8080/",
     "height": 309
    },
    "id": "VHdYkuaUWcwg",
    "outputId": "03aa0163-9987-4cbe-b6d9-c866e66d91f0"
   },
   "outputs": [],
   "source": [
    "gdf.head()"
   ]
  },
  {
   "cell_type": "code",
   "execution_count": null,
   "metadata": {
    "id": "KSU6pqPTW4OM"
   },
   "outputs": [],
   "source": [
    "kh_gdf = gdf[gdf['COUNTYNAME']==\"高雄市\"]\n",
    "kh_json = kh_gdf.to_json()"
   ]
  },
  {
   "cell_type": "code",
   "execution_count": null,
   "metadata": {
    "colab": {
     "base_uri": "https://localhost:8080/",
     "height": 378
    },
    "id": "tDqZ_5pS-fUb",
    "outputId": "90733ef0-33ed-4791-d5b8-86cd9cd83c1e"
   },
   "outputs": [],
   "source": [
    "kh_gdf.head()"
   ]
  },
  {
   "cell_type": "code",
   "execution_count": null,
   "metadata": {
    "colab": {
     "base_uri": "https://localhost:8080/",
     "height": 286
    },
    "id": "dZOjMONSs7r4",
    "outputId": "775daf89-0d6f-4ac5-96b7-fb680c2afc7a"
   },
   "outputs": [],
   "source": [
    "ax = kh_gdf.plot(cmap=\"Blues\")\n",
    "ax.set_xlim(120, 121.2)\n",
    "ax.set_ylim(22.4, 23.6)"
   ]
  },
  {
   "cell_type": "code",
   "execution_count": null,
   "metadata": {
    "colab": {
     "base_uri": "https://localhost:8080/",
     "height": 138
    },
    "id": "RjEK8gg25eMx",
    "outputId": "6bdad358-6435-4fbb-9314-33de3c326f0f"
   },
   "outputs": [],
   "source": [
    "n = 0\n",
    "print(gdf['COUNTYNAME'][n],gdf['TOWNNAME'][n])\n",
    "gdf.iloc[n]['geometry']"
   ]
  },
  {
   "cell_type": "code",
   "execution_count": null,
   "metadata": {
    "colab": {
     "base_uri": "https://localhost:8080/"
    },
    "id": "0rBNgEXkXJeq",
    "outputId": "9dbe28a5-60b7-455e-feb6-c66ffc4fb880"
   },
   "outputs": [],
   "source": [
    "m = folium.Map(location=[22.6273, 120.3014], zoom_start=11)\n",
    "kh = folium.GeoJson(kh_json, name=\"高雄市行政區\")\n",
    "kh.add_to(m)\n",
    "folium.LayerControl().add_to(m)"
   ]
  },
  {
   "cell_type": "code",
   "execution_count": null,
   "metadata": {
    "colab": {
     "base_uri": "https://localhost:8080/",
     "height": 681
    },
    "id": "pcFsKqza9IgX",
    "outputId": "e01819fd-df1d-46cc-d23e-945a6ae257a2"
   },
   "outputs": [],
   "source": [
    "m"
   ]
  },
  {
   "cell_type": "code",
   "execution_count": null,
   "metadata": {
    "colab": {
     "base_uri": "https://localhost:8080/"
    },
    "id": "8aHTDsrwXNXr",
    "outputId": "c0df12c3-2133-41f9-efa7-b550b68f159b"
   },
   "outputs": [],
   "source": [
    "for i, p in kh_gdf.centroid.items():\n",
    "  folium.Marker([p.y, p.x], popup=kh_gdf['TOWNNAME'][i]).add_to(m)\n",
    "\n",
    "m.save(\"map.html\")"
   ]
  }
 ],
 "metadata": {
  "colab": {
   "collapsed_sections": [],
   "name": "畫出高雄市行政區地圖.ipynb",
   "provenance": []
  },
  "kernelspec": {
   "display_name": "Python 3",
   "language": "python",
   "name": "python3"
  },
  "language_info": {
   "codemirror_mode": {
    "name": "ipython",
    "version": 3
   },
   "file_extension": ".py",
   "mimetype": "text/x-python",
   "name": "python",
   "nbconvert_exporter": "python",
   "pygments_lexer": "ipython3",
   "version": "3.8.3"
  }
 },
 "nbformat": 4,
 "nbformat_minor": 4
}
